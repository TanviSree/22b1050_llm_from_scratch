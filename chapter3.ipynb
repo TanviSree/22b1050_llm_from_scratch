{
  "nbformat": 4,
  "nbformat_minor": 0,
  "metadata": {
    "colab": {
      "provenance": [],
      "authorship_tag": "ABX9TyMdDarcg8kZb+u3OWCnbHDj",
      "include_colab_link": true
    },
    "kernelspec": {
      "name": "python3",
      "display_name": "Python 3"
    },
    "language_info": {
      "name": "python"
    }
  },
  "cells": [
    {
      "cell_type": "markdown",
      "metadata": {
        "id": "view-in-github",
        "colab_type": "text"
      },
      "source": [
        "<a href=\"https://colab.research.google.com/github/TanviSree/22b1050_llm_from_scratch/blob/main/chapter3.ipynb\" target=\"_parent\"><img src=\"https://colab.research.google.com/assets/colab-badge.svg\" alt=\"Open In Colab\"/></a>"
      ]
    },
    {
      "cell_type": "markdown",
      "source": [
        "# Simple Self Attention Mechanism (without trainable weights)"
      ],
      "metadata": {
        "id": "Nj8LZdgjHlnN"
      }
    },
    {
      "cell_type": "code",
      "execution_count": null,
      "metadata": {
        "id": "SImd0DICHglE"
      },
      "outputs": [],
      "source": [
        "import torch\n",
        "import numpy as np\n",
        "import torch.nn as nn\n",
        "import torch.nn.functional as F"
      ]
    },
    {
      "cell_type": "code",
      "source": [
        "embeddings = torch.rand(5, 3)\n",
        "print(embeddings)"
      ],
      "metadata": {
        "colab": {
          "base_uri": "https://localhost:8080/"
        },
        "id": "l8J06ZdjfpUL",
        "outputId": "38cbe49e-581b-4efc-b86c-57b614ada7ce"
      },
      "execution_count": null,
      "outputs": [
        {
          "output_type": "stream",
          "name": "stdout",
          "text": [
            "tensor([[0.5771, 0.5235, 0.1928],\n",
            "        [0.9123, 0.0096, 0.7988],\n",
            "        [0.0353, 0.4856, 0.8558],\n",
            "        [0.5318, 0.3742, 0.4494],\n",
            "        [0.8334, 0.3342, 0.0234]])\n"
          ]
        }
      ]
    },
    {
      "cell_type": "code",
      "source": [
        "attention_weights = []\n",
        "for i in embeddings:\n",
        "  attention_specific_i = []\n",
        "  sum = 0\n",
        "  for j in embeddings:\n",
        "    attention_specific_i.append(torch.dot(i, j))\n",
        "    sum+=torch.dot(i, j)\n",
        "  attention_specific_i = [x/sum for x in attention_specific_i] #mean normalization\n",
        "  attention_weights.append(attention_specific_i)\n",
        "print(attention_weights)"
      ],
      "metadata": {
        "colab": {
          "base_uri": "https://localhost:8080/"
        },
        "id": "xhfp3Uunf1is",
        "outputId": "a32fb702-e747-4753-ced0-1466637dc149"
      },
      "execution_count": null,
      "outputs": [
        {
          "output_type": "stream",
          "name": "stdout",
          "text": [
            "[[tensor(0.2134), tensor(0.2271), tensor(0.1456), tensor(0.1952), tensor(0.2187)], [tensor(0.1521), tensor(0.3263), tensor(0.1599), tensor(0.1881), tensor(0.1736)], [tensor(0.1502), tensor(0.2462), tensor(0.3313), tensor(0.1999), tensor(0.0724)], [tensor(0.1827), tensor(0.2628), tensor(0.1814), tensor(0.1937), tensor(0.1794)], [tensor(0.2173), tensor(0.2573), tensor(0.0697), tensor(0.1904), tensor(0.2654)]]\n"
          ]
        }
      ]
    },
    {
      "cell_type": "code",
      "source": [
        "context_vectors = []\n",
        "for i in attention_weights:\n",
        "  context_for_that_specific_i = [0,0,0]\n",
        "  attention_weights_for_that_specific_i = i\n",
        "  n = len(embeddings) #5 in our case\n",
        "  for j in range(n):\n",
        "    context_for_that_specific_i[0]+=attention_weights_for_that_specific_i[j]*embeddings[j][0]\n",
        "    context_for_that_specific_i[1]+=attention_weights_for_that_specific_i[j]*embeddings[j][1]\n",
        "    context_for_that_specific_i[2]+=attention_weights_for_that_specific_i[j]*embeddings[j][2]\n",
        "  context_vectors.append(context_for_that_specific_i)"
      ],
      "metadata": {
        "id": "bZnp3QRGhxQe"
      },
      "execution_count": null,
      "outputs": []
    },
    {
      "cell_type": "code",
      "metadata": {
        "colab": {
          "base_uri": "https://localhost:8080/"
        },
        "id": "eaf568c8",
        "outputId": "dc7cceff-e603-4c1a-8883-415d3416124d"
      },
      "source": [
        "context_vectors_np = np.stack([torch.tensor(tensor).numpy() for tensor in context_vectors])\n",
        "print(context_vectors_np)"
      ],
      "execution_count": null,
      "outputs": [
        {
          "output_type": "stream",
          "name": "stdout",
          "text": [
            "[[0.6215781  0.33076474 0.43997198]\n",
            " [0.63585305 0.28883284 0.51541305]\n",
            " [0.48968503 0.34087592 0.6006893 ]\n",
            " [0.6041725  0.31871372 0.4916104 ]\n",
            " [0.6850413  0.3099857  0.39881623]]\n"
          ]
        }
      ]
    },
    {
      "cell_type": "markdown",
      "source": [
        "# Self-Attention Mechanism with Trainable Weights"
      ],
      "metadata": {
        "id": "_zEiC57aX5KT"
      }
    },
    {
      "cell_type": "code",
      "source": [
        "torch.manual_seed(124)\n",
        "\n",
        "W_query = torch.nn.Parameter(torch.rand(3, 2), requires_grad=False)\n",
        "W_key   = torch.nn.Parameter(torch.rand(3, 2), requires_grad=False)\n",
        "W_value = torch.nn.Parameter(torch.rand(3, 2), requires_grad=False)"
      ],
      "metadata": {
        "id": "SU0BQQvAX--x"
      },
      "execution_count": null,
      "outputs": []
    },
    {
      "cell_type": "code",
      "source": [
        "x_1 = embeddings[1]\n",
        "query_1 = x_1 @ W_query\n",
        "keys = embeddings @ W_key\n",
        "values = embeddings @ W_value\n",
        "attention_scores = query_1 @ keys.T\n",
        "d_k = keys.shape[1]\n",
        "attn_weights_1 = torch.softmax(attention_scores / d_k**0.5, dim=-1)\n",
        "print(attn_weights_1)"
      ],
      "metadata": {
        "colab": {
          "base_uri": "https://localhost:8080/"
        },
        "id": "I14ihZVbY1mC",
        "outputId": "7dd7af97-4ec5-4a9b-8430-d98699508ee4"
      },
      "execution_count": null,
      "outputs": [
        {
          "output_type": "stream",
          "name": "stdout",
          "text": [
            "tensor([0.1956, 0.2221, 0.1918, 0.1974, 0.1930])\n"
          ]
        }
      ]
    },
    {
      "cell_type": "code",
      "source": [
        "context_vector1 = attn_weights_1 @ values\n",
        "print(context_vector1)"
      ],
      "metadata": {
        "colab": {
          "base_uri": "https://localhost:8080/"
        },
        "id": "80EWn1_qbSI0",
        "outputId": "2ce8dfbd-1f2e-4262-9903-cf2456ac9cc7"
      },
      "execution_count": null,
      "outputs": [
        {
          "output_type": "stream",
          "name": "stdout",
          "text": [
            "tensor([0.7075, 0.9675])\n"
          ]
        }
      ]
    },
    {
      "cell_type": "markdown",
      "source": [
        "Within a compact python class :"
      ],
      "metadata": {
        "id": "WCwcD8q4bcR7"
      }
    },
    {
      "cell_type": "code",
      "source": [
        "import torch.nn as nn\n",
        "class selfAttention(nn.Module):\n",
        "\n",
        "    def __init__(self, d_in, d_out):\n",
        "        super().__init__()\n",
        "        self.W_query = nn.Parameter(torch.rand(d_in, d_out))\n",
        "        self.W_key   = nn.Parameter(torch.rand(d_in, d_out))\n",
        "        self.W_value = nn.Parameter(torch.rand(d_in, d_out))\n",
        "\n",
        "    def forward(self, x):\n",
        "        keys = x @ self.W_key\n",
        "        queries = x @ self.W_query\n",
        "        values = x @ self.W_value\n",
        "\n",
        "        attn_scores = queries @ keys.T # omega\n",
        "        attn_weights = torch.softmax(\n",
        "            attn_scores / keys.shape[-1]**0.5, dim=-1\n",
        "        )\n",
        "\n",
        "        context_vec = attn_weights @ values\n",
        "        return context_vec"
      ],
      "metadata": {
        "id": "UgmAyFQ1bfDU"
      },
      "execution_count": null,
      "outputs": []
    },
    {
      "cell_type": "code",
      "source": [
        "self1 = selfAttention(3,2)\n",
        "print(self1(embeddings))"
      ],
      "metadata": {
        "colab": {
          "base_uri": "https://localhost:8080/"
        },
        "id": "UbCk1SaRc0Fn",
        "outputId": "e6b863fb-24c5-4c9e-c6e4-ec096a84cf4d"
      },
      "execution_count": null,
      "outputs": [
        {
          "output_type": "stream",
          "name": "stdout",
          "text": [
            "tensor([[0.9564, 0.4195],\n",
            "        [0.9618, 0.4244],\n",
            "        [0.9557, 0.4190],\n",
            "        [0.9572, 0.4203],\n",
            "        [0.9568, 0.4200]], grad_fn=<MmBackward0>)\n"
          ]
        }
      ]
    },
    {
      "cell_type": "markdown",
      "source": [
        "#Causal Attention - Masked Attention\n",
        "we are masking tokens that are present after the current query token as we dont want them to contribute to context vector"
      ],
      "metadata": {
        "id": "pRl06P5GdPOg"
      }
    },
    {
      "cell_type": "code",
      "source": [
        "queries = embeddings @ self1.W_query\n",
        "keys = embeddings @ self1.W_key\n",
        "attention_scores = queries @ keys.T\n",
        "attn_wts = torch.softmax(attention_scores / keys.shape[-1]**0.5, dim=-1)\n",
        "print(attn_wts)"
      ],
      "metadata": {
        "colab": {
          "base_uri": "https://localhost:8080/"
        },
        "id": "x-BQrg3rdeLt",
        "outputId": "81b9e420-3849-4bd8-da80-ffd108035b1b"
      },
      "execution_count": null,
      "outputs": [
        {
          "output_type": "stream",
          "name": "stdout",
          "text": [
            "tensor([[0.1984, 0.2292, 0.1791, 0.1960, 0.1973],\n",
            "        [0.1985, 0.2444, 0.1663, 0.1933, 0.1975],\n",
            "        [0.1988, 0.2267, 0.1803, 0.1963, 0.1979],\n",
            "        [0.1986, 0.2310, 0.1771, 0.1956, 0.1976],\n",
            "        [0.1986, 0.2302, 0.1779, 0.1958, 0.1976]], grad_fn=<SoftmaxBackward0>)\n"
          ]
        }
      ]
    },
    {
      "cell_type": "code",
      "source": [
        "context_length = attention_scores.shape[0]\n",
        "mask_simple = torch.tril(torch.ones(context_length, context_length))\n",
        "print(mask_simple)"
      ],
      "metadata": {
        "colab": {
          "base_uri": "https://localhost:8080/"
        },
        "id": "CAz23A1oeeRx",
        "outputId": "4c9a3198-c575-4ff4-bf89-2482941e1b04"
      },
      "execution_count": null,
      "outputs": [
        {
          "output_type": "stream",
          "name": "stdout",
          "text": [
            "tensor([[1., 0., 0., 0., 0.],\n",
            "        [1., 1., 0., 0., 0.],\n",
            "        [1., 1., 1., 0., 0.],\n",
            "        [1., 1., 1., 1., 0.],\n",
            "        [1., 1., 1., 1., 1.]])\n"
          ]
        }
      ]
    },
    {
      "cell_type": "code",
      "source": [
        "context_length = attention_scores.shape[0]\n",
        "mask = torch.triu(torch.ones(context_length, context_length), diagonal=1)\n",
        "masked = attention_scores.masked_fill(mask.bool(), -torch.inf)\n",
        "attn_wts = torch.softmax(masked / keys.shape[-1]**0.5, dim=-1)\n",
        "print(attn_wts)"
      ],
      "metadata": {
        "colab": {
          "base_uri": "https://localhost:8080/"
        },
        "id": "R8r_LbZhejU2",
        "outputId": "7dd3bcb1-b34e-4387-f247-b4f2a4f7f804"
      },
      "execution_count": null,
      "outputs": [
        {
          "output_type": "stream",
          "name": "stdout",
          "text": [
            "tensor([[1.0000, 0.0000, 0.0000, 0.0000, 0.0000],\n",
            "        [0.4481, 0.5519, 0.0000, 0.0000, 0.0000],\n",
            "        [0.3281, 0.3742, 0.2977, 0.0000, 0.0000],\n",
            "        [0.2475, 0.2879, 0.2207, 0.2438, 0.0000],\n",
            "        [0.1986, 0.2302, 0.1779, 0.1958, 0.1976]], grad_fn=<SoftmaxBackward0>)\n"
          ]
        }
      ]
    },
    {
      "cell_type": "markdown",
      "source": [
        "Applying dropout of 50% and scaling rest by factor of 2 ( 1/1-dropout)"
      ],
      "metadata": {
        "id": "4birgmxkL_4Q"
      }
    },
    {
      "cell_type": "code",
      "source": [
        "torch.manual_seed(123)\n",
        "dropout = torch.nn.Dropout(0.5)\n",
        "example = torch.ones(5,5)\n",
        "print(dropout(attn_wts))"
      ],
      "metadata": {
        "colab": {
          "base_uri": "https://localhost:8080/"
        },
        "id": "HR_-ji1HL_dD",
        "outputId": "dd567d49-8840-403b-ca7c-e5b80a2a0f3e"
      },
      "execution_count": null,
      "outputs": [
        {
          "output_type": "stream",
          "name": "stdout",
          "text": [
            "tensor([[2.0000, 0.0000, 0.0000, 0.0000, 0.0000],\n",
            "        [0.8962, 0.0000, 0.0000, 0.0000, 0.0000],\n",
            "        [0.0000, 0.0000, 0.0000, 0.0000, 0.0000],\n",
            "        [0.0000, 0.5758, 0.0000, 0.4877, 0.0000],\n",
            "        [0.0000, 0.0000, 0.0000, 0.3916, 0.3952]], grad_fn=<MulBackward0>)\n"
          ]
        }
      ]
    },
    {
      "cell_type": "code",
      "metadata": {
        "colab": {
          "base_uri": "https://localhost:8080/"
        },
        "id": "984a652c",
        "outputId": "27dd7d45-95cd-4910-a158-ff76d594e447"
      },
      "source": [
        "batch = torch.stack((embeddings,embeddings), dim=0)\n",
        "print(batch.shape)"
      ],
      "execution_count": null,
      "outputs": [
        {
          "output_type": "stream",
          "name": "stdout",
          "text": [
            "torch.Size([2, 5, 3])\n"
          ]
        }
      ]
    },
    {
      "cell_type": "code",
      "source": [
        "d_in = 3\n",
        "d_out = 2\n",
        "class CausalAttention(nn.Module):\n",
        "\n",
        "    def __init__(self, d_in, d_out, context_length,\n",
        "                 dropout, qkv_bias=False):\n",
        "        super().__init__()\n",
        "        self.d_out = d_out\n",
        "        self.W_query = nn.Linear(d_in, d_out, bias=qkv_bias)\n",
        "        self.W_key   = nn.Linear(d_in, d_out, bias=qkv_bias)\n",
        "        self.W_value = nn.Linear(d_in, d_out, bias=qkv_bias)\n",
        "        self.dropout = nn.Dropout(dropout) # New\n",
        "        self.register_buffer('mask', torch.triu(torch.ones(context_length, context_length), diagonal=1)) # New\n",
        "\n",
        "    def forward(self, x):\n",
        "        b, num_tokens, d_in = x.shape # New batch dimension b\n",
        "        # For inputs where `num_tokens` exceeds `context_length`, this will result in errors\n",
        "        # in the mask creation further below.\n",
        "        # In practice, this is not a problem since the LLM (chapters 4-7) ensures that inputs\n",
        "        # do not exceed `context_length` before reaching this forward method.\n",
        "        keys = self.W_key(x)\n",
        "        queries = self.W_query(x)\n",
        "        values = self.W_value(x)\n",
        "\n",
        "        attn_scores = queries @ keys.transpose(1, 2) # Changed transpose\n",
        "        attn_scores.masked_fill_(  # New, _ ops are in-place\n",
        "            self.mask.bool()[:num_tokens, :num_tokens], -torch.inf)  # `:num_tokens` to account for cases where the number of tokens in the batch is smaller than the supported context_size\n",
        "        attn_weights = torch.softmax(\n",
        "            attn_scores / keys.shape[-1]**0.5, dim=-1\n",
        "        )\n",
        "        attn_weights = self.dropout(attn_weights) # New\n",
        "\n",
        "        context_vec = attn_weights @ values\n",
        "        return context_vec\n",
        "\n",
        "torch.manual_seed(123)\n",
        "\n",
        "context_length = batch.shape[1]\n",
        "ca = CausalAttention(d_in, d_out, context_length, 0.0)\n",
        "\n",
        "context_vecs = ca(batch)\n",
        "\n",
        "print(context_vecs)\n",
        "print(\"context_vecs.shape:\", context_vecs.shape)"
      ],
      "metadata": {
        "colab": {
          "base_uri": "https://localhost:8080/"
        },
        "id": "hAvQsp2Rik1R",
        "outputId": "317453d4-1b96-474a-c05b-901d9ed4369a"
      },
      "execution_count": null,
      "outputs": [
        {
          "output_type": "stream",
          "name": "stdout",
          "text": [
            "tensor([[[-0.5071, -0.2232],\n",
            "         [-0.5680,  0.0025],\n",
            "         [-0.5007,  0.0285],\n",
            "         [-0.4972,  0.0076],\n",
            "         [-0.5031, -0.0410]],\n",
            "\n",
            "        [[-0.5071, -0.2232],\n",
            "         [-0.5680,  0.0025],\n",
            "         [-0.5007,  0.0285],\n",
            "         [-0.4972,  0.0076],\n",
            "         [-0.5031, -0.0410]]], grad_fn=<UnsafeViewBackward0>)\n",
            "context_vecs.shape: torch.Size([2, 5, 2])\n"
          ]
        }
      ]
    },
    {
      "cell_type": "markdown",
      "source": [
        "# Multihead attention\n"
      ],
      "metadata": {
        "id": "moPiup_ln8D9"
      }
    },
    {
      "cell_type": "code",
      "source": [
        "class MultiHeadAttentionWrapper(nn.Module):\n",
        "\n",
        "    def __init__(self, d_in, d_out, context_length, dropout, num_heads, qkv_bias=False):\n",
        "        super().__init__()\n",
        "        self.heads = nn.ModuleList(\n",
        "            [CausalAttention(d_in, d_out, context_length, dropout, qkv_bias)\n",
        "             for _ in range(num_heads)]\n",
        "        )\n",
        "\n",
        "    def forward(self, x):\n",
        "        return torch.cat([head(x) for head in self.heads], dim=-1)\n",
        "\n",
        "\n",
        "torch.manual_seed(123)\n",
        "\n",
        "context_length = batch.shape[1] # This is the number of tokens\n",
        "d_in, d_out = 3, 2\n",
        "mha = MultiHeadAttentionWrapper(\n",
        "    d_in, d_out, context_length, 0.0, num_heads=2\n",
        ")\n",
        "\n",
        "context_vecs = mha(batch)\n",
        "\n",
        "print(context_vecs)\n",
        "print(\"context_vecs.shape:\", context_vecs.shape)"
      ],
      "metadata": {
        "colab": {
          "base_uri": "https://localhost:8080/"
        },
        "id": "I3TKSyrvoAD-",
        "outputId": "68e16d81-074f-4961-b3eb-28706f95dbed"
      },
      "execution_count": null,
      "outputs": [
        {
          "output_type": "stream",
          "name": "stdout",
          "text": [
            "tensor([[[-0.5071, -0.2232,  0.4773,  0.3738],\n",
            "         [-0.5680,  0.0025,  0.5560,  0.2784],\n",
            "         [-0.5007,  0.0285,  0.4961,  0.2491],\n",
            "         [-0.4972,  0.0076,  0.4931,  0.2512],\n",
            "         [-0.5031, -0.0410,  0.4975,  0.2700]],\n",
            "\n",
            "        [[-0.5071, -0.2232,  0.4773,  0.3738],\n",
            "         [-0.5680,  0.0025,  0.5560,  0.2784],\n",
            "         [-0.5007,  0.0285,  0.4961,  0.2491],\n",
            "         [-0.4972,  0.0076,  0.4931,  0.2512],\n",
            "         [-0.5031, -0.0410,  0.4975,  0.2700]]], grad_fn=<CatBackward0>)\n",
            "context_vecs.shape: torch.Size([2, 5, 4])\n"
          ]
        }
      ]
    },
    {
      "cell_type": "code",
      "source": [
        "class MultiHeadAttention(nn.Module):\n",
        "    def __init__(self, d_in, d_out, context_length, dropout, num_heads, qkv_bias=False):\n",
        "        super().__init__()\n",
        "        assert (d_out % num_heads == 0), \\\n",
        "            \"d_out must be divisible by num_heads\"\n",
        "\n",
        "        self.d_out = d_out\n",
        "        self.num_heads = num_heads\n",
        "        self.head_dim = d_out // num_heads\n",
        "\n",
        "        self.W_query = nn.Linear(d_in, d_out, bias=qkv_bias)\n",
        "        self.W_key = nn.Linear(d_in, d_out, bias=qkv_bias)\n",
        "        self.W_value = nn.Linear(d_in, d_out, bias=qkv_bias)\n",
        "        self.out_proj = nn.Linear(d_out, d_out)  # Linear layer to combine head outputs\n",
        "        self.dropout = nn.Dropout(dropout)\n",
        "        self.register_buffer(\n",
        "            \"mask\",\n",
        "            torch.triu(torch.ones(context_length, context_length),\n",
        "                       diagonal=1)\n",
        "        )\n",
        "\n",
        "    def forward(self, x):\n",
        "        b, num_tokens, d_in = x.shape\n",
        "\n",
        "        keys = self.W_key(x)\n",
        "        queries = self.W_query(x)\n",
        "        values = self.W_value(x)\n",
        "        keys = keys.view(b, num_tokens, self.num_heads, self.head_dim)\n",
        "        values = values.view(b, num_tokens, self.num_heads, self.head_dim)\n",
        "        queries = queries.view(b, num_tokens, self.num_heads, self.head_dim)\n",
        "        keys = keys.transpose(1, 2)\n",
        "        queries = queries.transpose(1, 2)\n",
        "        values = values.transpose(1, 2)\n",
        "        attn_scores = queries @ keys.transpose(2, 3)  # Dot product for each head\n",
        "        mask_bool = self.mask.bool()[:num_tokens, :num_tokens]\n",
        "\n",
        "        # Using the mask to fill attention scores\n",
        "        attn_scores.masked_fill_(mask_bool, -torch.inf)\n",
        "\n",
        "        attn_weights = torch.softmax(attn_scores / keys.shape[-1]**0.5, dim=-1)\n",
        "        attn_weights = self.dropout(attn_weights)\n",
        "\n",
        "        # Shape: (b, num_tokens, num_heads, head_dim)\n",
        "        context_vec = (attn_weights @ values).transpose(1, 2)\n",
        "\n",
        "        # Combine heads, where self.d_out = self.num_heads * self.head_dim\n",
        "        context_vec = context_vec.contiguous().view(b, num_tokens, self.d_out)\n",
        "        context_vec = self.out_proj(context_vec)\n",
        "\n",
        "        return context_vec\n",
        "\n",
        "torch.manual_seed(123)\n",
        "\n",
        "batch_size, context_length, d_in = batch.shape\n",
        "d_out = 2\n",
        "mha = MultiHeadAttention(d_in, d_out, context_length, 0.0, num_heads=2)\n",
        "\n",
        "context_vecs = mha(batch)\n",
        "\n",
        "print(context_vecs)\n",
        "print(\"context_vecs.shape:\", context_vecs.shape)"
      ],
      "metadata": {
        "colab": {
          "base_uri": "https://localhost:8080/"
        },
        "id": "kkRMZRoUop0G",
        "outputId": "5a68baba-8e65-4e48-bf34-9acd92040093"
      },
      "execution_count": null,
      "outputs": [
        {
          "output_type": "stream",
          "name": "stdout",
          "text": [
            "tensor([[[0.2273, 0.3996],\n",
            "         [0.2884, 0.4005],\n",
            "         [0.2831, 0.4363],\n",
            "         [0.2778, 0.4351],\n",
            "         [0.2677, 0.4254]],\n",
            "\n",
            "        [[0.2273, 0.3996],\n",
            "         [0.2884, 0.4005],\n",
            "         [0.2831, 0.4363],\n",
            "         [0.2778, 0.4351],\n",
            "         [0.2677, 0.4254]]], grad_fn=<ViewBackward0>)\n",
            "context_vecs.shape: torch.Size([2, 5, 2])\n"
          ]
        }
      ]
    }
  ]
}